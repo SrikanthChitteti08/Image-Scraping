{
 "cells": [
  {
   "cell_type": "markdown",
   "id": "d2c9a04a-a803-44ed-878e-b69cb5c87d3d",
   "metadata": {},
   "source": [
    "## Import Libraries"
   ]
  },
  {
   "cell_type": "code",
   "execution_count": 61,
   "id": "3711d609-6857-471d-95a5-64507ef9b066",
   "metadata": {},
   "outputs": [],
   "source": [
    "import requests\n",
    "import pandas as pd\n",
    "import chromedriver_binary\n",
    "from selenium import webdriver\n",
    "from bs4 import BeautifulSoup\n",
    "from selenium.webdriver.chrome.service import Service"
   ]
  },
  {
   "cell_type": "markdown",
   "id": "c0b7b381-26aa-440c-99fd-ceb5f10a1c7e",
   "metadata": {},
   "source": [
    "## Webdriver"
   ]
  },
  {
   "cell_type": "code",
   "execution_count": 2,
   "id": "362d3cbf-6bfa-468d-a642-3d83e7d7f92e",
   "metadata": {},
   "outputs": [],
   "source": [
    "service = Service(executable_path = 'youtube scraping/chromedriver.exe')\n",
    "browser = webdriver.Chrome(service = service)\n",
    "browser.get('https://stock-pictures.netlify.app')"
   ]
  },
  {
   "cell_type": "markdown",
   "id": "de245f10-6dab-4ef7-b26d-cd656220bf94",
   "metadata": {},
   "source": [
    "## Load BeautifulSoup"
   ]
  },
  {
   "cell_type": "code",
   "execution_count": 69,
   "id": "e821fb42-f3c6-4127-8e6a-1ca4734c21a8",
   "metadata": {},
   "outputs": [],
   "source": [
    "soup = BeautifulSoup(browser.page_source, 'html.parser')"
   ]
  },
  {
   "cell_type": "code",
   "execution_count": null,
   "id": "4764be34-47d9-4c2f-81fa-1170e346e34f",
   "metadata": {},
   "outputs": [],
   "source": [
    "## Extar"
   ]
  },
  {
   "cell_type": "code",
   "execution_count": 70,
   "id": "cbc43cca-cb22-4adf-bbaa-17a081d8d277",
   "metadata": {},
   "outputs": [],
   "source": [
    "data = []\n",
    "for sp in soup.find_all('div', class_ = 'container'):\n",
    "    \n",
    "    tags =  sp.find('span',class_ = 'tag-color').text[7:].replace(',','')\n",
    "    likes = sp.find_all('span')[-2].text\n",
    "    comments = sp.find_all('span')[-1].text\n",
    "    img_link = sp.find('img').get('src')\n",
    "    data.append([tags ,likes ,comments ,img_link])"
   ]
  },
  {
   "cell_type": "code",
   "execution_count": 71,
   "id": "f98ad0b6-57ea-4da2-872a-c10c2db9ccc6",
   "metadata": {},
   "outputs": [],
   "source": [
    "df = pd.DataFrame(data, columns = ['tags', 'likes', 'comments', 'img_link'])"
   ]
  },
  {
   "cell_type": "code",
   "execution_count": 73,
   "id": "b5a2c53d-863f-4546-89c2-55a4df293ab3",
   "metadata": {},
   "outputs": [],
   "source": [
    "df.to_csv('imgs.csv', index = False)"
   ]
  },
  {
   "cell_type": "markdown",
   "id": "63b91f74-be9e-446c-b251-645b895ca67f",
   "metadata": {},
   "source": [
    "#### Image Download"
   ]
  },
  {
   "cell_type": "code",
   "execution_count": null,
   "id": "f3fc51a3-a9ac-4d0f-b7f7-f9d5b94c607d",
   "metadata": {},
   "outputs": [],
   "source": [
    "link = df['link'][0]\n",
    "res = requests.get(link)\n",
    "fd = open('Img.png','wb')\n",
    "fd.write(res.content)\n",
    "fd.close()"
   ]
  },
  {
   "cell_type": "markdown",
   "id": "082098ec-848b-4db3-a38b-9976feebf97b",
   "metadata": {},
   "source": [
    "#### Download All Images"
   ]
  },
  {
   "cell_type": "code",
   "execution_count": 82,
   "id": "d7c935c5-de4c-49a5-b175-84bc888e5b8f",
   "metadata": {},
   "outputs": [
    {
     "ename": "SyntaxError",
     "evalue": "incomplete input (2031453666.py, line 5)",
     "output_type": "error",
     "traceback": [
      "\u001b[1;36m  Cell \u001b[1;32mIn[82], line 5\u001b[1;36m\u001b[0m\n\u001b[1;33m    # fd.close()\u001b[0m\n\u001b[1;37m                ^\u001b[0m\n\u001b[1;31mSyntaxError\u001b[0m\u001b[1;31m:\u001b[0m incomplete input\n"
     ]
    }
   ],
   "source": [
    "for link in df['img_link']:\n",
    "    # res = requests.get(link)\n",
    "    # fd = open('imgs/' + link.split('/')[-1],'wb')\n",
    "    # fd.write(res.content)\n",
    "    # fd.close()"
   ]
  },
  {
   "cell_type": "code",
   "execution_count": 79,
   "id": "a820beb2-9c4c-4ae3-9a8b-ea4b2c88ad69",
   "metadata": {},
   "outputs": [
    {
     "data": {
      "text/html": [
       "<div>\n",
       "<style scoped>\n",
       "    .dataframe tbody tr th:only-of-type {\n",
       "        vertical-align: middle;\n",
       "    }\n",
       "\n",
       "    .dataframe tbody tr th {\n",
       "        vertical-align: top;\n",
       "    }\n",
       "\n",
       "    .dataframe thead th {\n",
       "        text-align: right;\n",
       "    }\n",
       "</style>\n",
       "<table border=\"1\" class=\"dataframe\">\n",
       "  <thead>\n",
       "    <tr style=\"text-align: right;\">\n",
       "      <th></th>\n",
       "      <th>tags</th>\n",
       "      <th>likes</th>\n",
       "      <th>comments</th>\n",
       "      <th>img_link</th>\n",
       "    </tr>\n",
       "  </thead>\n",
       "  <tbody>\n",
       "    <tr>\n",
       "      <th>0</th>\n",
       "      <td>Clouds Sky Atmosphere Blue Sky</td>\n",
       "      <td>196 Likes</td>\n",
       "      <td>55 Comments</td>\n",
       "      <td>https://cdn.pixabay.com/photo/2022/03/06/05/30...</td>\n",
       "    </tr>\n",
       "    <tr>\n",
       "      <th>1</th>\n",
       "      <td>Bird Ornithology Hummingbird</td>\n",
       "      <td>76 Likes</td>\n",
       "      <td>20 Comments</td>\n",
       "      <td>https://cdn.pixabay.com/photo/2022/04/07/11/45...</td>\n",
       "    </tr>\n",
       "    <tr>\n",
       "      <th>2</th>\n",
       "      <td>Sea Rainbow Rainfall Subtropical</td>\n",
       "      <td>282 Likes</td>\n",
       "      <td>106 Comments</td>\n",
       "      <td>https://cdn.pixabay.com/photo/2022/02/28/15/28...</td>\n",
       "    </tr>\n",
       "    <tr>\n",
       "      <th>3</th>\n",
       "      <td>Cherry Blossoms Road Japan Sakura</td>\n",
       "      <td>42 Likes</td>\n",
       "      <td>11 Comments</td>\n",
       "      <td>https://cdn.pixabay.com/photo/2022/04/04/02/52...</td>\n",
       "    </tr>\n",
       "    <tr>\n",
       "      <th>4</th>\n",
       "      <td>Cape Marguerite Flower Plant</td>\n",
       "      <td>39 Likes</td>\n",
       "      <td>15 Comments</td>\n",
       "      <td>https://cdn.pixabay.com/photo/2022/04/09/18/06...</td>\n",
       "    </tr>\n",
       "    <tr>\n",
       "      <th>...</th>\n",
       "      <td>...</td>\n",
       "      <td>...</td>\n",
       "      <td>...</td>\n",
       "      <td>...</td>\n",
       "    </tr>\n",
       "    <tr>\n",
       "      <th>3116</th>\n",
       "      <td>Animal Cat Mammal Feline Kitty Pet</td>\n",
       "      <td>24 Likes</td>\n",
       "      <td>20 Comments</td>\n",
       "      <td>https://cdn.pixabay.com/photo/2021/12/30/11/06...</td>\n",
       "    </tr>\n",
       "    <tr>\n",
       "      <th>3117</th>\n",
       "      <td>Bird Cattle Egret Ornithology Species</td>\n",
       "      <td>2 Likes</td>\n",
       "      <td>2 Comments</td>\n",
       "      <td>https://cdn.pixabay.com/photo/2022/03/23/12/24...</td>\n",
       "    </tr>\n",
       "    <tr>\n",
       "      <th>3118</th>\n",
       "      <td>Book Cover Holy Spiritual Light</td>\n",
       "      <td>190 Likes</td>\n",
       "      <td>25 Comments</td>\n",
       "      <td>https://cdn.pixabay.com/photo/2019/08/08/18/23...</td>\n",
       "    </tr>\n",
       "    <tr>\n",
       "      <th>3119</th>\n",
       "      <td>Candles Pray Worships Religion</td>\n",
       "      <td>267 Likes</td>\n",
       "      <td>49 Comments</td>\n",
       "      <td>https://cdn.pixabay.com/photo/2019/06/25/14/02...</td>\n",
       "    </tr>\n",
       "    <tr>\n",
       "      <th>3120</th>\n",
       "      <td>Cosmea Cosmos Flower Cosmos Flower</td>\n",
       "      <td>62 Likes</td>\n",
       "      <td>52 Comments</td>\n",
       "      <td>https://cdn.pixabay.com/photo/2021/08/30/17/46...</td>\n",
       "    </tr>\n",
       "  </tbody>\n",
       "</table>\n",
       "<p>3121 rows × 4 columns</p>\n",
       "</div>"
      ],
      "text/plain": [
       "                                       tags      likes       comments  \\\n",
       "0            Clouds Sky Atmosphere Blue Sky  196 Likes   55 Comments    \n",
       "1              Bird Ornithology Hummingbird   76 Likes   20 Comments    \n",
       "2          Sea Rainbow Rainfall Subtropical  282 Likes  106 Comments    \n",
       "3         Cherry Blossoms Road Japan Sakura   42 Likes   11 Comments    \n",
       "4              Cape Marguerite Flower Plant   39 Likes   15 Comments    \n",
       "...                                     ...        ...            ...   \n",
       "3116     Animal Cat Mammal Feline Kitty Pet   24 Likes   20 Comments    \n",
       "3117  Bird Cattle Egret Ornithology Species    2 Likes    2 Comments    \n",
       "3118        Book Cover Holy Spiritual Light  190 Likes   25 Comments    \n",
       "3119         Candles Pray Worships Religion  267 Likes   49 Comments    \n",
       "3120     Cosmea Cosmos Flower Cosmos Flower   62 Likes   52 Comments    \n",
       "\n",
       "                                               img_link  \n",
       "0     https://cdn.pixabay.com/photo/2022/03/06/05/30...  \n",
       "1     https://cdn.pixabay.com/photo/2022/04/07/11/45...  \n",
       "2     https://cdn.pixabay.com/photo/2022/02/28/15/28...  \n",
       "3     https://cdn.pixabay.com/photo/2022/04/04/02/52...  \n",
       "4     https://cdn.pixabay.com/photo/2022/04/09/18/06...  \n",
       "...                                                 ...  \n",
       "3116  https://cdn.pixabay.com/photo/2021/12/30/11/06...  \n",
       "3117  https://cdn.pixabay.com/photo/2022/03/23/12/24...  \n",
       "3118  https://cdn.pixabay.com/photo/2019/08/08/18/23...  \n",
       "3119  https://cdn.pixabay.com/photo/2019/06/25/14/02...  \n",
       "3120  https://cdn.pixabay.com/photo/2021/08/30/17/46...  \n",
       "\n",
       "[3121 rows x 4 columns]"
      ]
     },
     "execution_count": 79,
     "metadata": {},
     "output_type": "execute_result"
    }
   ],
   "source": [
    "df"
   ]
  },
  {
   "cell_type": "code",
   "execution_count": 1,
   "id": "6ed12917-39b7-4387-9931-9bf0b8b52eb6",
   "metadata": {},
   "outputs": [],
   "source": [
    "for i in df['img_link']:\n",
    "    print(i.split('/')[-1])"
   ]
  },
  {
   "cell_type": "code",
   "execution_count": 2,
   "id": "04a7d579-40fe-4434-a1e8-c5af9ee1e864",
   "metadata": {},
   "outputs": [],
   "source": [
    "import time"
   ]
  },
  {
   "cell_type": "code",
   "execution_count": null,
   "id": "8f395357-028c-498e-861b-f7e6c4bce9c0",
   "metadata": {},
   "outputs": [],
   "source": [
    "browser.execute_script(\"window.scrollTo(0,100)\")\n",
    "time.sleep(1)\n",
    "\n",
    "browser.execute_script(\"window.scrollTo(0,200)\")\n",
    "time.sleep(1)\n",
    "\n",
    "browser.execute_script(\"window.scrollTo(0,300)\")\n",
    "time.sleep(1)\n",
    "\n",
    "browser.execute_script(\"window.scrollTo(0,400)\")\n",
    "time.sleep(1)"
   ]
  },
  {
   "cell_type": "code",
   "execution_count": null,
   "id": "8aa3c4f9-1c52-4e76-acaa-b67f3548afbe",
   "metadata": {},
   "outputs": [],
   "source": [
    "for i in range(0,100000,1000):\n",
    "    browser.execute_script(\"window.scrollTo(0,\" + str(i) + \")\")\n",
    "    time.sleep(.1)"
   ]
  },
  {
   "cell_type": "code",
   "execution_count": null,
   "id": "1399d7ba-658b-4447-bc26-d82e685d8d81",
   "metadata": {},
   "outputs": [],
   "source": [
    "for i in range(0,100000,1000):\n",
    "    print(\"window.scrollTo(0,\" + str(i) + \")\")"
   ]
  }
 ],
 "metadata": {
  "kernelspec": {
   "display_name": "Python 3 (ipykernel)",
   "language": "python",
   "name": "python3"
  },
  "language_info": {
   "codemirror_mode": {
    "name": "ipython",
    "version": 3
   },
   "file_extension": ".py",
   "mimetype": "text/x-python",
   "name": "python",
   "nbconvert_exporter": "python",
   "pygments_lexer": "ipython3",
   "version": "3.12.7"
  }
 },
 "nbformat": 4,
 "nbformat_minor": 5
}
